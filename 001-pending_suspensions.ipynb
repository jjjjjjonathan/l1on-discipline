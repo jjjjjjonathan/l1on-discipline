{
 "cells": [
  {
   "cell_type": "code",
   "execution_count": 1,
   "id": "fb988829",
   "metadata": {},
   "outputs": [
    {
     "name": "stderr",
     "output_type": "stream",
     "text": [
      "/home/on9/l1on-discipline/.venv/lib/python3.12/site-packages/openpyxl/styles/stylesheet.py:237: UserWarning: Workbook contains no default style, apply openpyxl's default\n",
      "  warn(\"Workbook contains no default style, apply openpyxl's default\")\n"
     ]
    },
    {
     "data": {
      "text/html": [
       "<div>\n",
       "<style scoped>\n",
       "    .dataframe tbody tr th:only-of-type {\n",
       "        vertical-align: middle;\n",
       "    }\n",
       "\n",
       "    .dataframe tbody tr th {\n",
       "        vertical-align: top;\n",
       "    }\n",
       "\n",
       "    .dataframe thead th {\n",
       "        text-align: right;\n",
       "    }\n",
       "</style>\n",
       "<table border=\"1\" class=\"dataframe\">\n",
       "  <thead>\n",
       "    <tr style=\"text-align: right;\">\n",
       "      <th></th>\n",
       "      <th>Club</th>\n",
       "      <th>Name</th>\n",
       "      <th>Person type</th>\n",
       "      <th>Pending since</th>\n",
       "    </tr>\n",
       "  </thead>\n",
       "  <tbody>\n",
       "    <tr>\n",
       "      <th>0</th>\n",
       "      <td>NORTH TORONTO SOCCER</td>\n",
       "      <td>LUCA DI MARCO</td>\n",
       "      <td>Player</td>\n",
       "      <td>2025-08-30</td>\n",
       "    </tr>\n",
       "    <tr>\n",
       "      <th>1</th>\n",
       "      <td>Last updated:</td>\n",
       "      <td>2025-09-17</td>\n",
       "      <td>NaN</td>\n",
       "      <td>NaN</td>\n",
       "    </tr>\n",
       "  </tbody>\n",
       "</table>\n",
       "</div>"
      ],
      "text/plain": [
       "                   Club           Name Person type Pending since\n",
       "0  NORTH TORONTO SOCCER  LUCA DI MARCO      Player    2025-08-30\n",
       "1         Last updated:     2025-09-17         NaN           NaN"
      ]
     },
     "execution_count": 1,
     "metadata": {},
     "output_type": "execute_result"
    }
   ],
   "source": [
    "import pandas as pd\n",
    "from datetime import datetime\n",
    "\n",
    "sanctions_path = input('Paste relative path of xlsx file')\n",
    "\n",
    "today = datetime.today().strftime('%Y-%m-%d')\n",
    "\n",
    "pending_sanctions = pd.read_excel(sanctions_path)\n",
    "\n",
    "pending_sanctions = pending_sanctions[pending_sanctions['Competition type'].str.contains('L1 Cup|Ontario')]\n",
    "\n",
    "pending_sanctions = pending_sanctions[pending_sanctions['Case status'].str.contains('ENTERED')]\n",
    "\n",
    "pending_sanctions['Pending since'] = pending_sanctions.apply(lambda x: pd.to_datetime(x['In status since (EDT)']).date(), axis=1)\n",
    "\n",
    "pending_sanctions = pending_sanctions[['Parent Club', 'Person name', 'Offender type', 'Pending since']].sort_values(by=['Pending since'])\n",
    "\n",
    "pending_sanctions = pending_sanctions.rename(columns={'Parent Club': 'Club', 'Person name': 'Name', 'Offender type': 'Person type'})\n",
    "\n",
    "last_updated = pd.DataFrame({ 'Club': ['Last updated:'], 'Name': [today]})\n",
    "\n",
    "pending_sanctions = pd.concat([pending_sanctions, last_updated], ignore_index=True)\n",
    "\n",
    "pending_sanctions.to_csv(f'output/pending_suspensions_{today}.csv', index=False)\n",
    "\n",
    "pending_sanctions\n"
   ]
  }
 ],
 "metadata": {
  "kernelspec": {
   "display_name": "l1on-discipline",
   "language": "python",
   "name": "python3"
  },
  "language_info": {
   "codemirror_mode": {
    "name": "ipython",
    "version": 3
   },
   "file_extension": ".py",
   "mimetype": "text/x-python",
   "name": "python",
   "nbconvert_exporter": "python",
   "pygments_lexer": "ipython3",
   "version": "3.12.1"
  }
 },
 "nbformat": 4,
 "nbformat_minor": 5
}
