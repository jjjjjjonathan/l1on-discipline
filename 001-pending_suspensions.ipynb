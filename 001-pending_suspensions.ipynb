{
 "cells": [
  {
   "cell_type": "code",
   "execution_count": null,
   "id": "fb988829",
   "metadata": {},
   "outputs": [],
   "source": [
    "import pandas as pd\n",
    "from datetime import datetime\n",
    "\n",
    "sanctions_path = input('Paste relative path of xlsx file')\n",
    "\n",
    "today = datetime.today().strftime('%Y-%m-%d')\n",
    "\n",
    "pending_sanctions = pd.read_excel(sanctions_path)\n",
    "\n",
    "pending_sanctions = pending_sanctions[pending_sanctions['Competition type'].str.contains('L1 Cup|Ontario')]\n",
    "\n",
    "pending_sanctions = pending_sanctions[pending_sanctions['Case status'].str.contains('ENTERED')]\n",
    "\n",
    "pending_sanctions['Pending since'] = pending_sanctions.apply(lambda x: pd.to_datetime(x['In status since (EDT)']).date(), axis=1)\n",
    "\n",
    "pending_sanctions = pending_sanctions[['Parent Club', 'Person name', 'Offender type', 'Pending since']].sort_values(by=['Pending since'])\n",
    "\n",
    "pending_sanctions = pending_sanctions.rename(columns={'Parent Club': 'Club', 'Person name': 'Name', 'Offender type': 'Person type'})\n",
    "\n",
    "last_updated = pd.DataFrame({ 'Club': ['Last updated:'], 'Name': [today]})\n",
    "\n",
    "pending_sanctions = pd.concat([pending_sanctions, last_updated], ignore_index=True)\n",
    "\n",
    "pending_sanctions.to_csv(f'output/pending_suspensions_{today}.csv', index=False)\n",
    "\n",
    "pending_sanctions\n"
   ]
  }
 ],
 "metadata": {
  "kernelspec": {
   "display_name": "l1on-discipline",
   "language": "python",
   "name": "python3"
  },
  "language_info": {
   "codemirror_mode": {
    "name": "ipython",
    "version": 3
   },
   "file_extension": ".py",
   "mimetype": "text/x-python",
   "name": "python",
   "nbconvert_exporter": "python",
   "pygments_lexer": "ipython3",
   "version": "3.12.1"
  }
 },
 "nbformat": 4,
 "nbformat_minor": 5
}
