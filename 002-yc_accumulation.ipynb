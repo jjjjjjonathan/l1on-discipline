{
 "cells": [
  {
   "cell_type": "code",
   "execution_count": null,
   "id": "d90a98ad",
   "metadata": {},
   "outputs": [],
   "source": [
    "# file paths\n",
    "accumulation_path = input('Paste relative path of spreadsheet')"
   ]
  },
  {
   "cell_type": "code",
   "execution_count": null,
   "id": "0a178eaa",
   "metadata": {},
   "outputs": [],
   "source": [
    "import pandas as pd\n",
    "from datetime import datetime\n",
    "\n",
    "today = datetime.today().strftime('%Y-%m-%d')"
   ]
  },
  {
   "cell_type": "code",
   "execution_count": null,
   "id": "393099e9",
   "metadata": {},
   "outputs": [],
   "source": [
    "yc_accumulation = pd.read_excel(accumulation_path)\n",
    "\n",
    "yc_accumulation = yc_accumulation[yc_accumulation['Competition type'].str.contains('L1 Cup|Ontario')]\n",
    "\n",
    "yc_accumulation['yc count'] = yc_accumulation.groupby(['Person name', 'Club', 'Type', 'Competition'])['Person name'].transform('count')\n",
    "\n",
    "yc_accumulation = yc_accumulation[['Person name', 'Club', 'Type', 'Competition', 'yc count']]\n",
    "\n",
    "yc_accumulation = yc_accumulation.drop_duplicates(subset=['Person name', 'Club', 'Type', 'Competition'], keep='last')\n",
    "\n",
    "yc_accumulation = yc_accumulation[(\n",
    "  ((yc_accumulation['Type'] == 'Team official') & (yc_accumulation['yc count'] >= 2)) |\n",
    "  ((yc_accumulation['Type'] == 'Player') & (yc_accumulation['yc count'] == 4)) | \n",
    "  ((yc_accumulation['Type'] == 'Player') & (yc_accumulation['yc count'] >= 6))\n",
    ")]\n",
    "\n",
    "last_updated = pd.DataFrame({ 'Person name': 'Last updated:', 'Club': [today]})\n",
    "\n",
    "yc_accumulation = pd.concat([yc_accumulation, last_updated], ignore_index=True)\n",
    "\n",
    "yc_accumulation = yc_accumulation.rename(columns={ 'Person name': 'Name', 'Type': 'Person type' })\n",
    "\n",
    "yc_accumulation = yc_accumulation[['Name', 'Club', 'Person type', 'Competition']]\n",
    "\n",
    "yc_accumulation.to_csv(f'output/yc_accumulation_{today}.csv', index=False)\n",
    "\n",
    "yc_accumulation\n",
    "\n"
   ]
  }
 ],
 "metadata": {
  "kernelspec": {
   "display_name": "l1on-discipline",
   "language": "python",
   "name": "python3"
  },
  "language_info": {
   "codemirror_mode": {
    "name": "ipython",
    "version": 3
   },
   "file_extension": ".py",
   "mimetype": "text/x-python",
   "name": "python",
   "nbconvert_exporter": "python",
   "pygments_lexer": "ipython3",
   "version": "3.12.1"
  }
 },
 "nbformat": 4,
 "nbformat_minor": 5
}
