{
 "cells": [
  {
   "cell_type": "code",
   "execution_count": 1,
   "id": "d90a98ad",
   "metadata": {},
   "outputs": [],
   "source": [
    "# file paths\n",
    "accumulation_path = input('Paste relative path of spreadsheet')"
   ]
  },
  {
   "cell_type": "code",
   "execution_count": 2,
   "id": "0a178eaa",
   "metadata": {},
   "outputs": [],
   "source": [
    "import pandas as pd\n",
    "from datetime import datetime\n",
    "\n",
    "today = datetime.today().strftime('%Y-%m-%d')"
   ]
  },
  {
   "cell_type": "code",
   "execution_count": 3,
   "id": "393099e9",
   "metadata": {},
   "outputs": [
    {
     "name": "stderr",
     "output_type": "stream",
     "text": [
      "/home/on9/l1on-discipline/.venv/lib/python3.12/site-packages/openpyxl/styles/stylesheet.py:237: UserWarning: Workbook contains no default style, apply openpyxl's default\n",
      "  warn(\"Workbook contains no default style, apply openpyxl's default\")\n"
     ]
    },
    {
     "data": {
      "text/html": [
       "<div>\n",
       "<style scoped>\n",
       "    .dataframe tbody tr th:only-of-type {\n",
       "        vertical-align: middle;\n",
       "    }\n",
       "\n",
       "    .dataframe tbody tr th {\n",
       "        vertical-align: top;\n",
       "    }\n",
       "\n",
       "    .dataframe thead th {\n",
       "        text-align: right;\n",
       "    }\n",
       "</style>\n",
       "<table border=\"1\" class=\"dataframe\">\n",
       "  <thead>\n",
       "    <tr style=\"text-align: right;\">\n",
       "      <th></th>\n",
       "      <th>Name</th>\n",
       "      <th>Club</th>\n",
       "      <th>Person type</th>\n",
       "      <th>Competition</th>\n",
       "    </tr>\n",
       "  </thead>\n",
       "  <tbody>\n",
       "    <tr>\n",
       "      <th>0</th>\n",
       "      <td>JULIO ENRIQUE GARCIA</td>\n",
       "      <td>BURLINGTON SC U20 MEN EAST</td>\n",
       "      <td>Team official</td>\n",
       "      <td>League1 Ontario U-20 Fall League (M) Regular S...</td>\n",
       "    </tr>\n",
       "    <tr>\n",
       "      <th>1</th>\n",
       "      <td>JOHN ZERVOS</td>\n",
       "      <td>SIGMA FC U20 MEN</td>\n",
       "      <td>Team official</td>\n",
       "      <td>League1 Ontario U-20 Fall League (M) Regular S...</td>\n",
       "    </tr>\n",
       "    <tr>\n",
       "      <th>2</th>\n",
       "      <td>Last updated:</td>\n",
       "      <td>2025-09-17</td>\n",
       "      <td>NaN</td>\n",
       "      <td>NaN</td>\n",
       "    </tr>\n",
       "  </tbody>\n",
       "</table>\n",
       "</div>"
      ],
      "text/plain": [
       "                   Name                        Club    Person type  \\\n",
       "0  JULIO ENRIQUE GARCIA  BURLINGTON SC U20 MEN EAST  Team official   \n",
       "1           JOHN ZERVOS            SIGMA FC U20 MEN  Team official   \n",
       "2         Last updated:                  2025-09-17            NaN   \n",
       "\n",
       "                                         Competition  \n",
       "0  League1 Ontario U-20 Fall League (M) Regular S...  \n",
       "1  League1 Ontario U-20 Fall League (M) Regular S...  \n",
       "2                                                NaN  "
      ]
     },
     "execution_count": 3,
     "metadata": {},
     "output_type": "execute_result"
    }
   ],
   "source": [
    "yc_accumulation = pd.read_excel(accumulation_path)\n",
    "\n",
    "yc_accumulation = yc_accumulation[yc_accumulation['Competition type'].str.contains('L1 Cup|Ontario')]\n",
    "\n",
    "yc_accumulation['yc count'] = yc_accumulation.groupby(['Person name', 'Club', 'Type', 'Competition'])['Person name'].transform('count')\n",
    "\n",
    "yc_accumulation = yc_accumulation[['Person name', 'Club', 'Type', 'Competition', 'yc count']]\n",
    "\n",
    "yc_accumulation = yc_accumulation.drop_duplicates(subset=['Person name', 'Club', 'Type', 'Competition'], keep='last')\n",
    "\n",
    "yc_accumulation = yc_accumulation[(\n",
    "  ((yc_accumulation['Type'] == 'Team official') & (yc_accumulation['yc count'] >= 2)) |\n",
    "  ((yc_accumulation['Type'] == 'Player') & (yc_accumulation['yc count'] == 4)) | \n",
    "  ((yc_accumulation['Type'] == 'Player') & (yc_accumulation['yc count'] >= 6))\n",
    ")]\n",
    "\n",
    "last_updated = pd.DataFrame({ 'Person name': 'Last updated:', 'Club': [today]})\n",
    "\n",
    "yc_accumulation = pd.concat([yc_accumulation, last_updated], ignore_index=True)\n",
    "\n",
    "yc_accumulation = yc_accumulation.rename(columns={ 'Person name': 'Name', 'Type': 'Person type' })\n",
    "\n",
    "yc_accumulation = yc_accumulation[['Name', 'Club', 'Person type', 'Competition']]\n",
    "\n",
    "yc_accumulation.to_csv(f'output/yc_accumulation_{today}.csv', index=False)\n",
    "\n",
    "yc_accumulation\n",
    "\n"
   ]
  }
 ],
 "metadata": {
  "kernelspec": {
   "display_name": "l1on-discipline",
   "language": "python",
   "name": "python3"
  },
  "language_info": {
   "codemirror_mode": {
    "name": "ipython",
    "version": 3
   },
   "file_extension": ".py",
   "mimetype": "text/x-python",
   "name": "python",
   "nbconvert_exporter": "python",
   "pygments_lexer": "ipython3",
   "version": "3.12.1"
  }
 },
 "nbformat": 4,
 "nbformat_minor": 5
}
