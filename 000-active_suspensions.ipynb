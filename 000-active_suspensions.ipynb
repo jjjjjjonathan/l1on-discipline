{
 "cells": [
  {
   "cell_type": "code",
   "execution_count": null,
   "id": "d90a98ad",
   "metadata": {},
   "outputs": [],
   "source": [
    "# file paths\n",
    "sanctions_path = input('Paste relative path of xlsx file')"
   ]
  },
  {
   "cell_type": "code",
   "execution_count": null,
   "id": "0a178eaa",
   "metadata": {},
   "outputs": [],
   "source": [
    "import pandas as pd\n",
    "from datetime import datetime\n",
    "\n",
    "def write_suspension_reason(sent_off, event_type, match_event_subtype):\n",
    "  if sent_off == 'No' and event_type == 'Yellow card':\n",
    "    return 'Yellow-card accumulation'\n",
    "  elif sent_off == 'Yes' and event_type == 'Yellow card':\n",
    "    return 'Second caution'\n",
    "  else:\n",
    "    return match_event_subtype\n",
    "  \n",
    "def rewrite_club(club, serving_team):\n",
    "  if type(serving_team) is str:\n",
    "    return serving_team\n",
    "  else:\n",
    "    return club\n",
    "  \n",
    "def adjust_for_plurals(value, is_match):\n",
    "  if is_match:\n",
    "    if value == 1:\n",
    "      return 'match'\n",
    "    else:\n",
    "      return 'matches'\n",
    "  else:\n",
    "    if value == 1:\n",
    "      return 'month'\n",
    "    else:\n",
    "      return 'months'\n",
    "    \n",
    "def rewrite_values(value, is_match, is_not_months_for_remaining, return_date):\n",
    "    if is_not_months_for_remaining:\n",
    "      return return_date\n",
    "    else:\n",
    "      return f'{value} {adjust_for_plurals(value, is_match)}'\n",
    "    \n",
    "def rewrite_remaining(value, is_match, return_date):\n",
    "  if is_match:\n",
    "    return f'{value} {adjust_for_plurals(value, is_match)}'\n",
    "  else:\n",
    "    return_timestamp = pd.to_datetime(return_date).date()\n",
    "    return return_timestamp"
   ]
  },
  {
   "cell_type": "code",
   "execution_count": null,
   "id": "25ce2371",
   "metadata": {},
   "outputs": [],
   "source": [
    "sanctions = pd.read_excel(sanctions_path)\n",
    "\n",
    "sanctions = sanctions[sanctions['Competition type'].str.contains('L1 Cup|Ontario')]\n",
    "\n",
    "sanctions = sanctions[sanctions['Case status'].str.contains('CONFIRMED')]\n",
    "\n",
    "sanctions['Team'] = sanctions.apply(lambda x: rewrite_club(x['Club'], x['Serving team']), axis=1)\n",
    "\n",
    "sanctions['Reason for Suspension'] = sanctions.apply(lambda x: write_suspension_reason(x['Sent off'], x['Event Type'], x['Match event sub-type']), axis=1)\n",
    "\n",
    "sanctions['Reason for Suspension'] = sanctions['Reason for Suspension'].apply(lambda x: 'Denying an obvious goalscoring opportunity' if 'Denying an obvious goalscoring opportunity' in x else x)\n",
    "\n",
    "sanctions['Sanction type'] = sanctions['Sanction type'].map(lambda x: True if x == 'Match suspension' else False)\n",
    "\n",
    "sanctions['Value'] = sanctions.apply(lambda x: rewrite_values(x['Value'], x['Sanction type'], False, x['Sanction date to (EDT)']), axis=1)\n",
    "\n",
    "sanctions['Remaining'] = sanctions.apply(lambda x: rewrite_remaining(x['Remaining'], x['Sanction type'], x['Sanction date to (EDT)']), axis=1)\n",
    "\n",
    "sanctions = sanctions[['Club', 'Competition type', 'Person name', 'Offender type', 'Reason for Suspension', 'Value', 'Remaining']].sort_values(by=['Club'])\n",
    "\n",
    "sanctions = sanctions.rename(columns={'Competition type': 'Competition', 'Person name': 'Name', 'Offender type': 'Person type', 'Value': 'Total suspended', 'Remaining': 'Total remaining'})\n",
    "\n",
    "sanctions"
   ]
  },
  {
   "cell_type": "code",
   "execution_count": null,
   "id": "d3d083d8",
   "metadata": {},
   "outputs": [],
   "source": [
    "today = datetime.today().strftime('%Y-%m-%d')\n",
    "\n",
    "last_updated = pd.DataFrame({ 'Club': ['Last updated:'], 'Competition': [today]})\n",
    "\n",
    "sanctions = pd.concat([sanctions, last_updated], ignore_index=True)\n",
    "\n",
    "sanctions.to_csv(f'output/active_suspensions_{today}.csv', index=False)"
   ]
  }
 ],
 "metadata": {
  "kernelspec": {
   "display_name": "l1on-discipline",
   "language": "python",
   "name": "python3"
  },
  "language_info": {
   "codemirror_mode": {
    "name": "ipython",
    "version": 3
   },
   "file_extension": ".py",
   "mimetype": "text/x-python",
   "name": "python",
   "nbconvert_exporter": "python",
   "pygments_lexer": "ipython3",
   "version": "3.12.1"
  }
 },
 "nbformat": 4,
 "nbformat_minor": 5
}
